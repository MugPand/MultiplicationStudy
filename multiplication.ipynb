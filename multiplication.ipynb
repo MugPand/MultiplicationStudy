{
 "cells": [
  {
   "cell_type": "markdown",
   "metadata": {},
   "source": [
    "# Multiplication Case Study\n",
    "\n",
    "Recently I came across a video regarding Karatsuba's Fast Multiplication Algorithm (https://www.youtube.com/watch?v=cCKOl5li6YM&t=788s) and decided to implement it in python. I followed the pseudocode from wikipedia regarding the algorithm (https://en.wikipedia.org/wiki/Karatsuba_algorithm) to implement my method. \n",
    "\n",
    "To examine the effect that using Karatsuba's Fast Multiplication Algorithm has on real-time computations, I also implemented a standard elementary-school long multiplcation algorithm. To compare the two, I added operation counters within both methods that keep track of the respective number of  addition and multiplication calculations being performed. \n",
    "\n",
    "Finally, I simulated both algorithms being called 200 times for numbers ranging from 1 to upperBound (in my case 15) digits, averaged the operations performed and graphed them against the respective number of digits. \n",
    "\n",
    "This resulted in the graph shown below that highlights the standard multiplication algorithm following the n^2 curve, while the Karatsuba multiplcation algorithm roughly follows an n^1.58 curve.\n",
    "\n",
    "![Plot](Images/plot.JPG)\n",
    "\n",
    "*Note: The n^2 line overlaps the standard algorithm curve.*\n",
    "*Note: The Karatsuba operation count may not be completely accurate which results in the respective line not following the n^1.58 curve as closely as I had hoped. *\n"
   ]
  },
  {
   "cell_type": "code",
   "execution_count": 3,
   "metadata": {},
   "outputs": [],
   "source": [
    "# handle imports\n",
    "import matplotlib.pyplot as plt\n",
    "from random import randint\n",
    "import numpy as np"
   ]
  },
  {
   "cell_type": "code",
   "execution_count": 8,
   "metadata": {},
   "outputs": [],
   "source": [
    "# initialize global variables\n",
    "standard_sum_operations = 0\n",
    "standard_product_operations = 0\n",
    "karatsuba_sum_operations = 0\n",
    "karatsuba_product_operations = 0"
   ]
  },
  {
   "cell_type": "code",
   "execution_count": 9,
   "metadata": {},
   "outputs": [],
   "source": [
    "# define standard long multiplication algorithm\n",
    "def standard(a, b):\n",
    "    global standard_sum_operations, standard_product_operations\n",
    "    a_list = [int(x) for x in str(a)]\n",
    "    a_list.reverse()\n",
    "    b_list = [int(x) for x in str(b)]\n",
    "    b_list.reverse()\n",
    "    \n",
    "    product = [0 for x in range(len(a_list) + len(b_list))]\n",
    "\n",
    "    for b_counter in range(len(b_list)):\n",
    "        carry = 0\n",
    "        for a_counter in range(len(a_list)):\n",
    "            product[a_counter + b_counter] += carry + a_list[a_counter] * b_list[b_counter]\n",
    "            standard_sum_operations += 1\n",
    "            standard_product_operations += 1\n",
    "            carry = int(product[a_counter + b_counter] / 10)\n",
    "            product[a_counter + b_counter] = product[a_counter + b_counter] % 10\n",
    "        product[b_counter + len(a_list)] = carry\n",
    "        standard_sum_operations += 1\n",
    "\n",
    "    product.reverse()\n",
    "    return int(sum(d * 10**i for i, d in enumerate(product[::-1])))"
   ]
  },
  {
   "cell_type": "code",
   "execution_count": 14,
   "metadata": {},
   "outputs": [
    {
     "name": "stdout",
     "output_type": "stream",
     "text": [
      "135650052221140070110\n",
      "132\n",
      "121\n"
     ]
    }
   ],
   "source": [
    "# test standard method\n",
    "standard_sum_operations = 0\n",
    "standard_product_operations = 0\n",
    "print(standard(12345678910,10987654321))\n",
    "print(standard_sum_operations)\n",
    "print(standard_product_operations)"
   ]
  },
  {
   "cell_type": "code",
   "execution_count": 7,
   "metadata": {},
   "outputs": [],
   "source": [
    "# define karatsuba multiplication algorithm\n",
    "def karatsuba(a, b):\n",
    "    global karatsuba_sum_operations, karatsuba_product_operations\n",
    "    if (a < 10) or (b < 10):\n",
    "        return a * b\n",
    "\n",
    "    m = min(len(str(a)), len(str(b)))\n",
    "    m2 = m // 2\n",
    "\n",
    "    h1 = a // 10**m2\n",
    "    l1 = a % 10**m2\n",
    "    h2 = b // 10**m2\n",
    "    l2 = b % 10**m2\n",
    "\n",
    "    z0 = karatsuba(l1, l2)\n",
    "    z1 = karatsuba(l1 + h1, l2 + h2)\n",
    "    z2 = karatsuba(h1, h2)\n",
    "\n",
    "    karatsuba_product_operations += 1\n",
    "    karatsuba_sum_operations += 3\n",
    "    return (z2 * 10**(m2*2)) + ((z1 - z2 - z0) * 10**m2) + z0"
   ]
  },
  {
   "cell_type": "code",
   "execution_count": 11,
   "metadata": {},
   "outputs": [
    {
     "name": "stdout",
     "output_type": "stream",
     "text": [
      "11016000\n",
      "9\n",
      "3\n"
     ]
    }
   ],
   "source": [
    "# test karatsuba method\n",
    "karatsuba_sum_operations = 0\n",
    "karatsuba_product_operations = 0\n",
    "print(karatsuba(6885,1600))\n",
    "print(karatsuba_sum_operations)\n",
    "print(karatsuba_product_operations)"
   ]
  },
  {
   "cell_type": "code",
   "execution_count": 16,
   "metadata": {},
   "outputs": [],
   "source": [
    "# define simulation\n",
    "def simulate():\n",
    "    global standard_product_operations, karatsuba_product_operations\n",
    "    upperBound = 15\n",
    "    digits = [x for x in range(1, upperBound)]\n",
    "    standard_operations = []\n",
    "    karatsuba_operations = []\n",
    "\n",
    "    # num of digits\n",
    "    for i in range(1, upperBound):\n",
    "        # num of tries\n",
    "        total_standard_operations = 0\n",
    "        total_karatsuba_operations = 0\n",
    "        for j in range(200):\n",
    "            standard_product_operations = 0\n",
    "            karatsuba_product_operations = 0\n",
    "            standard_sum_operations = 0\n",
    "            karatsuba_sum_operations = 0\n",
    "\n",
    "            a = randint(pow(10, i - 1), pow(10, i))\n",
    "            b = randint(pow(10, i - 1), pow(10, i))\n",
    "\n",
    "            standard(a, b)\n",
    "            karatsuba(a, b)\n",
    "\n",
    "            total_standard_operations += standard_product_operations + standard_sum_operations\n",
    "            total_karatsuba_operations += karatsuba_product_operations + karatsuba_sum_operations\n",
    "\n",
    "        average_standard_operations = total_standard_operations / 200\n",
    "        average_karatsuba_operations = total_karatsuba_operations / 200\n",
    "\n",
    "        standard_operations.append(average_standard_operations)\n",
    "        karatsuba_operations.append(average_karatsuba_operations)\n",
    "    \n",
    "    # plotting\n",
    "    plt.plot(digits, standard_operations, label=\"Standard Operations\")\n",
    "    plt.plot(digits, karatsuba_operations, label=\"Karatsuba Operations\")\n",
    "    x = np.linspace(0, upperBound)\n",
    "    y = x**2\n",
    "    plt.plot(x, y, label=\"n^2\")\n",
    "    y = x**1.58\n",
    "    plt.plot(x, y, label=\"n^1.58\")"
   ]
  },
  {
   "cell_type": "code",
   "execution_count": 17,
   "metadata": {},
   "outputs": [
    {
     "data": {
      "image/png": "[encoded data removed]",
      "text/plain": [
       "<Figure size 432x288 with 1 Axes>"
      ]
     },
     "metadata": {
      "needs_background": "light"
     },
     "output_type": "display_data"
    }
   ],
   "source": [
    "# run simulation & display plot\n",
    "simulate()\n",
    "plt.legend()\n",
    "plt.title(\"Multiplication Algorithms Comparison\")\n",
    "plt.xlabel(\"Number of digits\")\n",
    "plt.ylabel(\"Number of computations performed\")\n",
    "plt.show()"
   ]
  }
 ],
 "metadata": {
  "kernelspec": {
   "display_name": "Python 3",
   "language": "python",
   "name": "python3"
  },
  "language_info": {
   "codemirror_mode": {
    "name": "ipython",
    "version": 3
   },
   "file_extension": ".py",
   "mimetype": "text/x-python",
   "name": "python",
   "nbconvert_exporter": "python",
   "pygments_lexer": "ipython3",
   "version": "3.6.8"
  }
 },
 "nbformat": 4,
 "nbformat_minor": 2
}
